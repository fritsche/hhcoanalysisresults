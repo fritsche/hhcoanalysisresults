{
 "cells": [
  {
   "cell_type": "code",
   "execution_count": 1,
   "metadata": {},
   "outputs": [],
   "source": [
    "import pandas as pd\n",
    "import plotly.graph_objects as go\n",
    "import numpy as np\n",
    "\n",
    "DEFAULT_PLOTLY_COLORS_RGB=['rgb(31, 119, 180)', 'rgb(255, 127, 14)',\n",
    "                       'rgb(44, 160, 44)', 'rgb(214, 39, 40)',\n",
    "                       'rgb(148, 103, 189)', 'rgb(140, 86, 75)',\n",
    "                       'rgb(227, 119, 194)', 'rgb(127, 127, 127)',\n",
    "                       'rgb(188, 189, 34)', 'rgb(23, 190, 207)']\n",
    "\n",
    "DEFAULT_PLOTLY_COLORS_RGBA=['rgba(31, 119, 180, 0.2)', 'rgba(255, 127, 14, 0.2)',\n",
    "                       'rgba(44, 160, 44, 0.2)', 'rgba(214, 39, 40, 0.2)',\n",
    "                       'rgba(148, 103, 189, 0.2)', 'rgba(140, 86, 75, 0.2)',\n",
    "                       'rgba(227, 119, 194, 0.2)', 'rgba(127, 127, 127, 0.2)',\n",
    "                       'rgba(188, 189, 34, 0.2)', 'rgba(23, 190, 207, 0.2)']\n",
    "\n",
    "def plot_line_with_margin(alg, prob, r, g, b):\n",
    "    pop_size = 210\n",
    "    runs = [str(i) for i in range(0, 20)]\n",
    "    path=\"../MaFMethodology/5/hhco/%s/%s/output/\"%(alg,prob)\n",
    "    df_list=[]\n",
    "    for run in runs:\n",
    "        df = pd.read_csv(path+\"hvimprovement.\"+run, names=[\"HV\"])\n",
    "        df['fe'] = np.arange(len(df))\n",
    "        df['it'] = df['fe'] // pop_size\n",
    "        df['run'] = run\n",
    "        df_list.append(df)\n",
    "    df = pd.concat(df_list)\n",
    "    df = df.groupby(['it', 'run']).mean().reset_index()\n",
    "\n",
    "    df_mean = df.groupby(['it']).mean().reset_index()\n",
    "    df_max = df.groupby(['it']).max().reset_index()\n",
    "    df_min = df.groupby(['it']).min().reset_index()\n",
    "\n",
    "    x = df_mean['fe'].tolist()\n",
    "    x_rev = x[::-1]\n",
    "\n",
    "    y1 = df_mean['HV'].tolist()\n",
    "    y1_upper = df_max['HV'].tolist()\n",
    "    y1_lower = df_min['HV'].tolist()\n",
    "    y1_lower = y1_lower[::-1]\n",
    "\n",
    "    fig.add_trace(go.Scatter(\n",
    "        x=x+x_rev,\n",
    "        y=y1_upper+y1_lower,\n",
    "        fill='toself',\n",
    "        fillcolor='rgba(%s, %s, %s, 0.2)'%(r, g, b),\n",
    "        line_color='rgba(255,255,255,0)',\n",
    "        showlegend=False,\n",
    "        name=alg,\n",
    "    ))\n",
    "    fig.add_trace(go.Scatter(\n",
    "        x=x, y=y1,\n",
    "        line_color='rgb(%s, %s, %s, 0.2)'%(r, g, b),\n",
    "        name=alg,\n",
    "    ))\n"
   ]
  },
  {
   "cell_type": "code",
   "execution_count": 10,
   "metadata": {},
   "outputs": [],
   "source": [
    "probs=[\"MaF01\", \"MaF02\", \"MaF03\", \"MaF04\", \"MaF05\", \"MaF06\"]\n",
    "    #, \"MaF07\", \"MaF08\", \"MaF09\", \"MaF10\", \"MaF11\", \"MaF12\", \"MaF13\"]\n",
    "    #, \"MaF14\", \"MaF15\"]\n",
    "for prob in probs:\n",
    "    fig = go.Figure()\n",
    "    plot_line_with_margin('HHCOR2', prob, 31, 119, 180)\n",
    "    plot_line_with_margin('HHCORandom', prob, 255, 127, 14)\n",
    "    fig.update_traces(mode='lines')\n",
    "    fig.update_layout(title=prob,\n",
    "                   xaxis_title='Fitness Evaluation',\n",
    "                   yaxis_title='Hypervolume')\n",
    "    fig"
   ]
  }
 ],
 "metadata": {
  "kernelspec": {
   "display_name": "Python 3",
   "language": "python",
   "name": "python3"
  },
  "language_info": {
   "codemirror_mode": {
    "name": "ipython",
    "version": 3
   },
   "file_extension": ".py",
   "mimetype": "text/x-python",
   "name": "python",
   "nbconvert_exporter": "python",
   "pygments_lexer": "ipython3",
   "version": "3.6.5"
  }
 },
 "nbformat": 4,
 "nbformat_minor": 4
}
